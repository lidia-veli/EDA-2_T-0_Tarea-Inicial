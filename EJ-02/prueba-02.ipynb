{
 "cells": [
  {
   "cell_type": "code",
   "execution_count": 1,
   "metadata": {},
   "outputs": [],
   "source": [
    "from numpy import sum"
   ]
  },
  {
   "cell_type": "markdown",
   "metadata": {},
   "source": [
    "para n = 1 no hay solución al problema de las n reinas."
   ]
  },
  {
   "cell_type": "markdown",
   "metadata": {},
   "source": [
    "para n = 2 no hay solución al problema de las n reinas."
   ]
  },
  {
   "cell_type": "markdown",
   "metadata": {},
   "source": [
    "para n = 3 no hay solución al problema de las n reinas."
   ]
  },
  {
   "cell_type": "markdown",
   "metadata": {},
   "source": [
    "## n = 4"
   ]
  },
  {
   "cell_type": "code",
   "execution_count": 6,
   "metadata": {},
   "outputs": [
    {
     "name": "stdout",
     "output_type": "stream",
     "text": [
      "b3\n"
     ]
    }
   ],
   "source": [
    "tab = [\n",
    "            ['a1','a2','a3','a4'],\n",
    "            ['b1','b2','b3','b4'],\n",
    "            ['c1','c2','c3','c4'],\n",
    "            ['d1','d2','d3','d4'],\n",
    "            ]\n",
    "\n",
    "print(tab[1][2])"
   ]
  },
  {
   "cell_type": "code",
   "execution_count": 9,
   "metadata": {},
   "outputs": [
    {
     "name": "stdout",
     "output_type": "stream",
     "text": [
      "[['a1', 'a2', 'a3', 'a4'], ['b1', 'b2', 'b3', 'b4'], ['c1', 'c2', 'c3', 'c4'], ['d1', 'd2', 'd3', 'd4']]\n",
      "[['a1', 'b1', 'c1', 'd1'], ['a2', 'b2', 'c2', 'd2'], ['a3', 'b3', 'c3', 'd3'], ['a4', 'b4', 'c4', 'd4']]\n"
     ]
    }
   ],
   "source": [
    "fil = [ tab[i] for i in range(4) ]\n",
    "col = [ [fil[i][j] for i in range(4)] for j in range(4) ]\n",
    "\n",
    "print(fil)\n",
    "print(col)"
   ]
  },
  {
   "cell_type": "markdown",
   "metadata": {},
   "source": [
    "### Tablero\n",
    "Estructuramos el tablero vacío 4x4"
   ]
  },
  {
   "cell_type": "code",
   "execution_count": 10,
   "metadata": {},
   "outputs": [],
   "source": [
    "tablero_4 = [\n",
    "            [0,0,0,0],\n",
    "            [0,0,0,0],\n",
    "            [0,0,0,0],\n",
    "            [0,0,0,0],\n",
    "            ]\n",
    "\n",
    "fila_4 = [ tablero_4[i] for i in range(4) ]\n",
    "columna_4 = [ [fil[i][j] for i in range(4)] for j in range(4) ]           \n"
   ]
  },
  {
   "cell_type": "markdown",
   "metadata": {},
   "source": [
    "### Restricciones\n",
    "Las restricciones que debe cumplir cada solución del problema son:"
   ]
  },
  {
   "cell_type": "code",
   "execution_count": null,
   "metadata": {},
   "outputs": [],
   "source": [
    "# RESTRICCIÓN FILAS\n",
    "for i in range(4):\n",
    "    if sum(fila_4[i]) > 1: # suma es 0 (no hay reina) o 1 (hay reina)\n",
    "        print('OK')\n",
    "    else:\n",
    "        print('ERROR')\n",
    "\n",
    "\n",
    "# RESTRICCIÓN COLUMNAS\n",
    "for i in range(4):\n",
    "    if sum(columna_4[i]) > 1: # suma es 0 (no hay reina) o 1 (hay reina)\n",
    "        print('OK')\n",
    "    else:\n",
    "        print('ERROR')\n",
    "\n",
    "\n",
    "# RESTRICCIÓN DIAGONAL\n"
   ]
  },
  {
   "cell_type": "code",
   "execution_count": null,
   "metadata": {},
   "outputs": [],
   "source": [
    "# representar el tablero como un vector en vez de como una matriz "
   ]
  }
 ],
 "metadata": {
  "kernelspec": {
   "display_name": "Python 3",
   "language": "python",
   "name": "python3"
  },
  "language_info": {
   "codemirror_mode": {
    "name": "ipython",
    "version": 3
   },
   "file_extension": ".py",
   "mimetype": "text/x-python",
   "name": "python",
   "nbconvert_exporter": "python",
   "pygments_lexer": "ipython3",
   "version": "3.10.7"
  },
  "orig_nbformat": 4
 },
 "nbformat": 4,
 "nbformat_minor": 2
}
