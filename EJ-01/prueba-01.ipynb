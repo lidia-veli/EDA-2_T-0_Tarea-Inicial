{
 "cells": [
  {
   "cell_type": "markdown",
   "metadata": {},
   "source": [
    "# n = 1"
   ]
  },
  {
   "cell_type": "code",
   "execution_count": 2,
   "metadata": {},
   "outputs": [],
   "source": [
    "mov_casillas = [[4,6], [6,8], [7,9], [4,8], [3,9,0], [], [1,7,0], [2,6], [1,3], [2,4]]\n",
    "# desde la casilla 0 (pos. 0 del array) se puede ir a las casillas 4 y 6\n",
    "# desde la casilla 1 (pos. 1 del array) se puede ir a las casillas 6 y 8\n",
    "# ...\n",
    "# desde la casilla 9 (pos. 9 del array) se puede ir a las casillas 2 y 4"
   ]
  },
  {
   "cell_type": "code",
   "execution_count": 4,
   "metadata": {},
   "outputs": [
    {
     "name": "stdout",
     "output_type": "stream",
     "text": [
      "20\n"
     ]
    }
   ],
   "source": [
    "def posibles_movimientos_1(num_mov):\n",
    "    '''\n",
    "    Función que dado el número de movimiento posibles desde cada casilla, \n",
    "    devuelve la cantidad de posibles movimientos válidos desde todas las casillas.\n",
    "\n",
    "    INPUT:\n",
    "    num_mov: (int) número de movimientos posibles desde cada casilla\n",
    "\n",
    "    OUTPUT:\n",
    "    suma_mov: (int) suma de los movimientos posibles desde todas las casillas\n",
    "    '''\n",
    "    \n",
    "    suma_mov = 0\n",
    "    for casilla in range(0, len(mov_casillas)): # empezando desde cada casilla\n",
    "        suma_mov += len(mov_casillas[casilla]) # sumamos al contador los posibles movimientos desde ella\n",
    "    \n",
    "    return suma_mov\n",
    "\n",
    "# TEST\n",
    "print(posibles_movimientos_1(1))"
   ]
  },
  {
   "cell_type": "markdown",
   "metadata": {},
   "source": [
    "# n = 2"
   ]
  },
  {
   "cell_type": "code",
   "execution_count": 5,
   "metadata": {},
   "outputs": [
    {
     "name": "stdout",
     "output_type": "stream",
     "text": [
      "46\n"
     ]
    }
   ],
   "source": [
    "def posibles_movimientos_2(num_mov):\n",
    "    '''\n",
    "    Función que dado el número de movimiento posibles desde cada casilla, \n",
    "    devuelve la cantidad de posibles movimientos válidos desde todas las casillas.\n",
    "\n",
    "    INPUT:\n",
    "    num_mov: (int) número de movimientos posibles desde cada casilla\n",
    "\n",
    "    OUTPUT:\n",
    "    suma_mov: (int) suma de los movimientos posibles desde todas las casillas\n",
    "    '''\n",
    "    \n",
    "    suma_mov = 0\n",
    "    for c_1 in range(0, len(mov_casillas)): # casilla inicial\n",
    "        for c_2 in mov_casillas[c_1]: # mov 1\n",
    "            suma_mov += len(mov_casillas[c_2]) # contamos las casillas a las que se podría mover desde ahí\n",
    "    \n",
    "    return suma_mov\n",
    "\n",
    "# TEST\n",
    "print(posibles_movimientos_2(2))"
   ]
  },
  {
   "cell_type": "markdown",
   "metadata": {},
   "source": [
    "# n = 3"
   ]
  },
  {
   "cell_type": "code",
   "execution_count": 6,
   "metadata": {},
   "outputs": [
    {
     "name": "stdout",
     "output_type": "stream",
     "text": [
      "104\n"
     ]
    }
   ],
   "source": [
    "def posibles_movimientos_3(num_mov):\n",
    "    '''\n",
    "    Función que dado el número de movimiento posibles desde cada casilla, \n",
    "    devuelve la cantidad de posibles movimientos válidos desde todas las casillas.\n",
    "\n",
    "    INPUT:\n",
    "    num_mov: (int) número de movimientos posibles desde cada casilla\n",
    "\n",
    "    OUTPUT:\n",
    "    suma_mov: (int) suma de los movimientos posibles desde todas las casillas\n",
    "    '''\n",
    "    \n",
    "    suma_mov = 0\n",
    "    for c_1 in range(0, len(mov_casillas)): # casilla inicial\n",
    "        for c_2 in mov_casillas[c_1]: # mov 1\n",
    "            for c_3 in mov_casillas[c_2]: # mov 2\n",
    "                suma_mov += len(mov_casillas[c_3]) # contamos las casillas a las que se podría mover desde ahí\n",
    "    \n",
    "    return suma_mov\n",
    "\n",
    "# TEST\n",
    "print(posibles_movimientos_3(3))"
   ]
  },
  {
   "cell_type": "markdown",
   "metadata": {},
   "source": [
    "# n = 4"
   ]
  },
  {
   "cell_type": "code",
   "execution_count": 7,
   "metadata": {},
   "outputs": [
    {
     "name": "stdout",
     "output_type": "stream",
     "text": [
      "240\n"
     ]
    }
   ],
   "source": [
    "def posibles_movimientos_4(num_mov):\n",
    "    '''\n",
    "    Función que dado el número de movimiento posibles desde cada casilla, \n",
    "    devuelve la cantidad de posibles movimientos válidos desde todas las casillas.\n",
    "\n",
    "    INPUT:\n",
    "    num_mov: (int) número de movimientos posibles desde cada casilla\n",
    "\n",
    "    OUTPUT:\n",
    "    suma_mov: (int) suma de los movimientos posibles desde todas las casillas\n",
    "    '''\n",
    "    \n",
    "    suma_mov = 0\n",
    "    for c_1 in range(0, len(mov_casillas)): # casilla inicial\n",
    "        for c_2 in mov_casillas[c_1]: # mov 1\n",
    "            for c_3 in mov_casillas[c_2]: # mov 2\n",
    "                for c_4 in mov_casillas[c_3]:  # mov 3\n",
    "                    suma_mov += len(mov_casillas[c_4]) # casillas a las que se podría mover desde ahí\n",
    "    \n",
    "    return suma_mov\n",
    "\n",
    "# TEST\n",
    "print(posibles_movimientos_4(4))"
   ]
  },
  {
   "cell_type": "code",
   "execution_count": null,
   "metadata": {},
   "outputs": [],
   "source": [
    "# caso general\n",
    "def posibles_movimientos(num_mov):\n",
    "    "
   ]
  }
 ],
 "metadata": {
  "kernelspec": {
   "display_name": "Python 3",
   "language": "python",
   "name": "python3"
  },
  "language_info": {
   "codemirror_mode": {
    "name": "ipython",
    "version": 3
   },
   "file_extension": ".py",
   "mimetype": "text/x-python",
   "name": "python",
   "nbconvert_exporter": "python",
   "pygments_lexer": "ipython3",
   "version": "3.10.7"
  },
  "orig_nbformat": 4
 },
 "nbformat": 4,
 "nbformat_minor": 2
}
